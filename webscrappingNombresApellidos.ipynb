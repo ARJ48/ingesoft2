{
 "cells": [
  {
   "cell_type": "markdown",
   "metadata": {},
   "source": [
    "## Librerías"
   ]
  },
  {
   "cell_type": "code",
   "execution_count": 6,
   "metadata": {},
   "outputs": [],
   "source": [
    "from bs4 import BeautifulSoup\n",
    "import requests \n",
    "import pandas as pd"
   ]
  },
  {
   "cell_type": "markdown",
   "metadata": {},
   "source": [
    "## Nombres"
   ]
  },
  {
   "cell_type": "code",
   "execution_count": 12,
   "metadata": {},
   "outputs": [],
   "source": [
    "# Url con los nombres más comúnes de colombia\n",
    "url = \"https://nombresdepersona.com/colombia\"\n",
    "response = requests.get(url)\n",
    "soup = BeautifulSoup(response.content, 'html.parser')\n",
    "\n",
    "# Se busca la etiqueta con link\n",
    "links = soup.find_all('a')\n",
    "link_texts = [link.text for link in links]\n",
    "\n",
    "# Se convierten los links en un dataframe\n",
    "df = pd.DataFrame({'Nombres': link_texts})\n",
    "\n",
    "# Guardar el DataFrame en un archivo xlsx\n",
    "df.to_excel('db_nombres.xlsx', index=False)\n",
    "\n",
    "# De aqui sigue borrar un par de registros que no sirven en el excel y ya"
   ]
  },
  {
   "cell_type": "markdown",
   "metadata": {},
   "source": [
    "## Apellidos"
   ]
  },
  {
   "cell_type": "code",
   "execution_count": 13,
   "metadata": {},
   "outputs": [],
   "source": [
    "\n",
    "# Url con los apellidos más comúnes de colombia\n",
    "url = \"https://apellidos.de/colombia\"\n",
    "response = requests.get(url)\n",
    "soup = BeautifulSoup(response.content, 'html.parser')\n",
    "\n",
    "# Se busca la etiqueta con link\n",
    "links = soup.find_all('a')\n",
    "link_texts = [link.text for link in links]\n",
    "\n",
    "# Se convierten los links en un dataframe\n",
    "df = pd.DataFrame({'Apellidos': link_texts})\n",
    "\n",
    "# Guardar el DataFrame en un archivo xlsx\n",
    "df.to_excel('db_apellidos.xlsx', index=False)\n",
    "\n",
    "# De aqui sigue borrar un par de registros que no sirven en el excel y ya"
   ]
  }
 ],
 "metadata": {
  "kernelspec": {
   "display_name": "Python 3",
   "language": "python",
   "name": "python3"
  },
  "language_info": {
   "codemirror_mode": {
    "name": "ipython",
    "version": 3
   },
   "file_extension": ".py",
   "mimetype": "text/x-python",
   "name": "python",
   "nbconvert_exporter": "python",
   "pygments_lexer": "ipython3",
   "version": "3.11.5"
  }
 },
 "nbformat": 4,
 "nbformat_minor": 2
}
