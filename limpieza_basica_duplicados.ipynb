{
 "cells": [
  {
   "cell_type": "code",
   "execution_count": null,
   "metadata": {
    "vscode": {
     "languageId": "r"
    }
   },
   "outputs": [],
   "source": [
    "library(tidyverse)\n",
    "library(openxlsx)"
   ]
  },
  {
   "cell_type": "markdown",
   "metadata": {},
   "source": [
    "# Lectura datos"
   ]
  },
  {
   "cell_type": "code",
   "execution_count": null,
   "metadata": {
    "vscode": {
     "languageId": "r"
    }
   },
   "outputs": [],
   "source": [
    "df <- read.xlsx(\"bd_pruebas.xlsx\")\n",
    "df"
   ]
  },
  {
   "cell_type": "markdown",
   "metadata": {},
   "source": [
    "# Cantidad de duplicados"
   ]
  },
  {
   "cell_type": "code",
   "execution_count": null,
   "metadata": {
    "vscode": {
     "languageId": "r"
    }
   },
   "outputs": [],
   "source": [
    "df %>% \n",
    "    get_dupes(cedula) %>% \n",
    "    distinct(cedula, .keep_all = TRUE) %>% \n",
    "    mutate(dupe_count = dupe_count-1) %>% \n",
    "    summarise(sum(dupe_count))"
   ]
  },
  {
   "cell_type": "markdown",
   "metadata": {},
   "source": [
    "# Identificación de registros únicos por cédula"
   ]
  },
  {
   "cell_type": "code",
   "execution_count": null,
   "metadata": {
    "vscode": {
     "languageId": "r"
    }
   },
   "outputs": [],
   "source": [
    "cedulas <- df %>% get_dupes(cedula) %>% distinct(cedula) %>% pull()\n",
    "\n",
    "cedulas"
   ]
  },
  {
   "cell_type": "code",
   "execution_count": null,
   "metadata": {
    "vscode": {
     "languageId": "r"
    }
   },
   "outputs": [],
   "source": [
    "# Creamos una copia del df para poder manipular los datos\n",
    "aux <- df\n",
    "aux"
   ]
  },
  {
   "cell_type": "code",
   "execution_count": null,
   "metadata": {
    "vscode": {
     "languageId": "r"
    }
   },
   "outputs": [],
   "source": [
    "# Vaciamos el dataframe original\n",
    "df <- df[0,]\n",
    "\n",
    "df"
   ]
  },
  {
   "cell_type": "code",
   "execution_count": null,
   "metadata": {
    "vscode": {
     "languageId": "r"
    }
   },
   "outputs": [],
   "source": [
    "# Recorremos cada cédula para corregir los registros duplicados\n",
    "for (id in cedulas) {\n",
    "   df <- df %>% \n",
    "    rbind(\n",
    "        aux %>% \n",
    "            filter(cedula == id) %>% \n",
    "            fill(df %>% colnames()) %>% \n",
    "            distinct(cedula, .keep_all = TRUE)\n",
    "    )\n",
    "}\n",
    "\n",
    "# Creamos una función para negar todos los elementos de un vector\n",
    "`%not%` <- Negate(`%in%`)\n",
    "\n",
    "# Hacemos rbind a todos los registros que no pertenezcan a ninguna de las cédulas corregidas antes\n",
    "df <- df %>% \n",
    "    rbind(\n",
    "        aux %>% \n",
    "            filter(cedula %not% cedulas)\n",
    "    )"
   ]
  },
  {
   "cell_type": "code",
   "execution_count": null,
   "metadata": {
    "vscode": {
     "languageId": "r"
    }
   },
   "outputs": [],
   "source": [
    "df"
   ]
  }
 ],
 "metadata": {
  "kernelspec": {
   "display_name": "R",
   "language": "R",
   "name": "ir"
  },
  "language_info": {
   "codemirror_mode": "r",
   "file_extension": ".r",
   "mimetype": "text/x-r-source",
   "name": "R",
   "pygments_lexer": "r",
   "version": "4.3.1"
  }
 },
 "nbformat": 4,
 "nbformat_minor": 2
}
